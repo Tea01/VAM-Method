{
 "cells": [
  {
   "cell_type": "markdown",
   "metadata": {},
   "source": [
    "# Vogel's Approximation Method (VAM)/ Vogel'in Yaklaşım Yöntemi [![Open In Colab](https://colab.research.google.com/assets/colab-badge.svg)](https://colab.research.google.com/github/faridnec/vogels-approx-method/blob/farid-main/vogels_am.ipynb)\n",
    "\n",
    "*Authors : Muhammad Najmuddin Farid, Tea Skhurti, Mehmet Akif Kaya*\n",
    "\n",
    "`EN` Vogel's Approximation Method (VAM) is an algorithm used for solving transportation problems in linear programming. A transportation problem involves minimizing the cost of transporting goods from multiple suppliers to multiple consumers. Vogel's method provides an iterative approach to find an initial feasible solution, which can then be improved using other optimization techniques.\n",
    "\n",
    "`TR` Vogel'in Yaklaşım Yöntemi (VAM), doğrusal programlamada ulaştırma problemlerini çözmek için kullanılan bir algoritmadır. Ulaştırma problemi, malların birden fazla tedarikçiden birden fazla tüketiciye nakledilmesinin maliyetini en aza indirmeyi içerir. Vogel'in yöntemi, daha sonra diğer optimizasyon teknikleri kullanılarak geliştirilebilecek, başlangıçta uygun bir çözüm bulmak için yinelemeli bir yaklaşım sağlar.\n",
    "\n",
    "**Reference**:  \n",
    "BYJU's. (n.d.). Vogel's Approximation Method. BYJU's. https://byjus.com/maths/vogels-approximation-method/"
   ]
  },
  {
   "cell_type": "markdown",
   "metadata": {},
   "source": [
    "### Tool(s)\n",
    "Importing neccesary libraries to our project\n",
    "- NumPy, a popular library for scientific computing\n",
    "- relevant functions from `utils.py` and `vam.py` inside the `moduls` folder"
   ]
  },
  {
   "cell_type": "code",
   "execution_count": 1,
   "metadata": {},
   "outputs": [],
   "source": [
    "from modules.utils import calculate_total_cost\n",
    "from modules.vam import vogels_approximation_method\n",
    "import numpy as np"
   ]
  },
  {
   "cell_type": "markdown",
   "metadata": {},
   "source": [
    "## Scenario: Transportation Problem\n",
    "\n",
    "`EN` You are the logistics manager for a company that produces goods at three different factories and needs to deliver them to four retail stores. The transportation costs (in dollars per unit) from each factory to each store are given in the following cost matrix:\n",
    "\n",
    "`TR` Üç farklı fabrikada ürün üreten ve bunları dört perakende mağazasına teslim etmesi gereken bir şirketin lojistik müdürüsünüz. Her fabrikadan her mağazaya nakliye maliyetleri (birim başına dolar cinsinden) aşağıdaki maliyet matrisinde verilmiştir:\n",
    "\n",
    "```markdown\n",
    "                        ------------------------------------------------------------\n",
    "                                  | Store 1 | Store 2 | Store 3 | Store 4 | Supply  \n",
    "                        ------------------------------------------------------------\n",
    "                        Factory 1 |   4     |   6     |   8     |   7     |   75    \n",
    "                        Factory 2 |   2     |   6     |   8     |   5     |   125   \n",
    "                        Factory 3 |   5     |   9     |   7     |   4     |   100  \n",
    "                        ------------------------------------------------------------ \n",
    "                        Demand    |   80    |   65    |   70    |   85    |   300      \n",
    "                        ------------------------------------------------------------\n",
    "```\n",
    "`EN` Using Vogel's Approximation Method (VAM) to find an initial feasible solution to minimize the total transportation cost.\n",
    "1. Calculate penalties for each row and column.\n",
    "2. Identify the row or column with the highest penalty.\n",
    "3. Allocate units from the minimum cost cell in the selected row or column.\n",
    "4. Adjust supply and demand.\n",
    "5. Repeat steps 1-4 until all supply and demand requirements are satisfied.\n",
    "\n",
    "`TR` Toplam taşıma maliyetini en aza indirecek başlangıç uygun çözümünü bulmak için Vogel'in Yaklaşım Yöntemini (VAM) kullanmak.\n",
    "1. Her satır ve sütun için cezaları hesaplayın.\n",
    "2. En yüksek cezaya sahip satır veya sütunu belirleyin.\n",
    "3. Seçilen satır veya sütundaki minimum maliyet hücresinden birimleri tahsis edin.\n",
    "4. Arz ve talebi ayarlayın.\n",
    "5. Tüm arz ve talep gereksinimleri karşılanana kadar 1-4 arasındaki adımları tekrarlayın."
   ]
  },
  {
   "cell_type": "markdown",
   "metadata": {},
   "source": [
    "### Implementing supply, demand, and cost_matrix onto the code\n",
    "Here, simply use numpy array to assign the value to be solved."
   ]
  },
  {
   "cell_type": "code",
   "execution_count": 2,
   "metadata": {},
   "outputs": [],
   "source": [
    "# Supply\n",
    "supply = np.array([300, 400, 500])\n",
    "\n",
    "# Demand\n",
    "demand = np.array([250, 350, 400, 200])\n",
    "\n",
    "# Cost Table/ Matrix\n",
    "cost_matrix = np.array([\n",
    "    [3, 1, 7, 4],\n",
    "    [2, 6, 5, 9],\n",
    "    [8, 3, 3, 2]\n",
    "])"
   ]
  },
  {
   "cell_type": "markdown",
   "metadata": {},
   "source": [
    "### Calculating penalties and choosing max penalty value\n",
    "Using `vogels_approximation_method` to iterate and allocate optimized cost after calculating the penalties and choosing the maximum value both from row and column. Here is the visualized solution\n",
    "\n",
    "![example2](./img/example2.png)\n",
    "\n",
    "*Note :* In this particular example, notice on iteration 2. It does not allocate because the chosen maximun penalty value's cell is already fully allocated, thus it skips to the next iteration."
   ]
  },
  {
   "cell_type": "code",
   "execution_count": 3,
   "metadata": {},
   "outputs": [
    {
     "name": "stdout",
     "output_type": "stream",
     "text": [
      "\n",
      "Iteration 1:\n",
      "\n",
      "Row Penalties: [2. 3. 1.]\n",
      "Column Penalties: [1. 2. 2. 2.]\n",
      "Max Penalty: 3.0\n",
      "Allocating 250 units from Supplier 2 to Consumer 1\n",
      "\n",
      "Iteration 2:\n",
      "\n",
      "Row Penalties: [2. 1. 1.]\n",
      "Column Penalties: [5. 2. 2. 2.]\n",
      "Max Penalty: 5.0\n",
      "\n",
      "Iteration 3:\n",
      "\n",
      "Row Penalties: [3. 1. 1.]\n",
      "Column Penalties: [0. 2. 2. 2.]\n",
      "Max Penalty: 3.0\n",
      "Allocating 300 units from Supplier 1 to Consumer 2\n",
      "\n",
      "Iteration 4:\n",
      "\n",
      "Row Penalties: [3. 1. 1.]\n",
      "Column Penalties: [0. 3. 2. 2.]\n",
      "Max Penalty: 3.0\n",
      "\n",
      "Iteration 5:\n",
      "\n",
      "Row Penalties: [0. 1. 1.]\n",
      "Column Penalties: [0. 3. 2. 7.]\n",
      "Max Penalty: 7.0\n",
      "Allocating 200 units from Supplier 3 to Consumer 4\n",
      "\n",
      "Iteration 6:\n",
      "\n",
      "Row Penalties: [0. 1. 0.]\n",
      "Column Penalties: [0. 3. 2. 0.]\n",
      "Max Penalty: 3.0\n",
      "Allocating 50 units from Supplier 3 to Consumer 2\n",
      "\n",
      "Iteration 7:\n",
      "\n",
      "Row Penalties: [0. 1. 5.]\n",
      "Column Penalties: [0. 0. 2. 0.]\n",
      "Max Penalty: 5.0\n",
      "Allocating 250 units from Supplier 3 to Consumer 3\n",
      "\n",
      "Iteration 8:\n",
      "\n",
      "Row Penalties: [0. 1. 0.]\n",
      "Column Penalties: [0. 0. 2. 0.]\n",
      "Max Penalty: 2.0\n",
      "Allocating 150 units from Supplier 2 to Consumer 3\n",
      "\n",
      "Iteration 9:\n",
      "\n",
      "Row Penalties: [0. 3. 0.]\n",
      "Column Penalties: [0. 0. 0. 0.]\n",
      "Max Penalty: 3.0\n",
      "\n",
      "Iteration 10:\n",
      "\n",
      "Row Penalties: [0. 0. 0.]\n",
      "Column Penalties: [0. 0. 0. 0.]\n",
      "Max Penalty: 0.0\n"
     ]
    }
   ],
   "source": [
    "solution = vogels_approximation_method(supply, demand, cost_matrix)"
   ]
  },
  {
   "cell_type": "markdown",
   "metadata": {},
   "source": [
    "### Display Allocation Matrix\n",
    "The optimized allocation for this specific scenario is as follows"
   ]
  },
  {
   "cell_type": "code",
   "execution_count": 4,
   "metadata": {},
   "outputs": [
    {
     "name": "stdout",
     "output_type": "stream",
     "text": [
      "[[  0 300   0   0]\n",
      " [250   0 150   0]\n",
      " [  0  50 250 200]]\n"
     ]
    }
   ],
   "source": [
    "print(solution)"
   ]
  },
  {
   "cell_type": "markdown",
   "metadata": {},
   "source": [
    "### Calculate Minimum Cost\n",
    "The minimum total transportation is calculated using`calculate_total_cost` and for this particular scenario\n",
    "- cost =1×300+2×250+5×150+3×50+3×250+2×200= `2850`"
   ]
  },
  {
   "cell_type": "code",
   "execution_count": 5,
   "metadata": {},
   "outputs": [
    {
     "name": "stdout",
     "output_type": "stream",
     "text": [
      "\n",
      "Total Cost (Optimized): 2850 units\n",
      "\n"
     ]
    }
   ],
   "source": [
    "calculate_total_cost(cost_matrix,solution)"
   ]
  }
 ],
 "metadata": {
  "kernelspec": {
   "display_name": "base",
   "language": "python",
   "name": "python3"
  },
  "language_info": {
   "codemirror_mode": {
    "name": "ipython",
    "version": 3
   },
   "file_extension": ".py",
   "mimetype": "text/x-python",
   "name": "python",
   "nbconvert_exporter": "python",
   "pygments_lexer": "ipython3",
   "version": "3.11.4"
  }
 },
 "nbformat": 4,
 "nbformat_minor": 2
}
